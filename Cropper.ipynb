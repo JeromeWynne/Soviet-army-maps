{
 "cells": [
  {
   "cell_type": "code",
   "execution_count": 10,
   "metadata": {
    "collapsed": false
   },
   "outputs": [],
   "source": [
    "import MapGrabber as MG\n",
    "import glob\n",
    "import numpy as np\n",
    "import cv2\n",
    "from scipy import ndimage\n",
    "from matplotlib import pyplot as plt\n",
    "%matplotlib inline"
   ]
  },
  {
   "cell_type": "code",
   "execution_count": 18,
   "metadata": {
    "collapsed": false
   },
   "outputs": [],
   "source": [
    "img_fps = glob.glob('.\\\\k38_lom_imgs\\\\*.gif')\n",
    "for img_fp in sample_img_fps:\n",
    "    img = ndimage.imread(img_fp)\n",
    "    dst_img = cv2.cvtColor(MG.crop_border(img), cv2.COLOR_BGR2RGB)\n",
    "    dst_fp = './k38_lom_cropped/'+img_fp.split('\\\\')[-1][:-4]'.png'\n",
    "    cv2.imwrite(dst_fp)"
   ]
  }
 ],
 "metadata": {
  "kernelspec": {
   "display_name": "Python [Root]",
   "language": "python",
   "name": "Python [Root]"
  },
  "language_info": {
   "codemirror_mode": {
    "name": "ipython",
    "version": 3
   },
   "file_extension": ".py",
   "mimetype": "text/x-python",
   "name": "python",
   "nbconvert_exporter": "python",
   "pygments_lexer": "ipython3",
   "version": "3.5.2"
  }
 },
 "nbformat": 4,
 "nbformat_minor": 0
}
