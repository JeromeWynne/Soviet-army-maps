{
 "cells": [
  {
   "cell_type": "code",
   "execution_count": 8,
   "metadata": {
    "collapsed": false
   },
   "outputs": [],
   "source": [
    "import MapGrabber as MG\n",
    "import glob\n",
    "import numpy as np\n",
    "import cv2\n",
    "from scipy import ndimage\n",
    "from matplotlib import pyplot as plt\n",
    "%matplotlib inline"
   ]
  },
  {
   "cell_type": "code",
   "execution_count": 2,
   "metadata": {
    "collapsed": false
   },
   "outputs": [],
   "source": [
    "def crop_k38():\n",
    "    img_fps = glob.glob('.\\\\k38_lom_imgs\\\\*.gif')\n",
    "    for fp in img_fps:\n",
    "        img = ndimage.imread(fp)\n",
    "        dst_img = cv2.cvtColor(MG.crop_border(img), cv2.COLOR_BGR2RGB)\n",
    "        dst_fp = './k38_lom_cropped/' + fp.split('\\\\')[-1][:-4] + '.png'\n",
    "        cv2.imwrite(dst_fp, dst_img)"
   ]
  },
  {
   "cell_type": "code",
   "execution_count": 9,
   "metadata": {
    "collapsed": true
   },
   "outputs": [],
   "source": [
    "sample_fps = ['./k38_lom_cropped/100k--k38-001.png', './k38_lom_cropped/100k--k38-002.png']"
   ]
  },
  {
   "cell_type": "code",
   "execution_count": null,
   "metadata": {
    "collapsed": true
   },
   "outputs": [],
   "source": [
    "# Algorithm outline\n",
    "#------------------------\n",
    "# 1. Pad one of the images\n",
    "# 2. Scan the other image by next to it, taking the distance between the images at each step\n",
    "# 3. Position the image at the place of minimum distance.\n",
    "# 4. Stitch them together"
   ]
  },
  {
   "cell_type": "code",
   "execution_count": 104,
   "metadata": {
    "collapsed": false
   },
   "outputs": [
    {
     "data": {
      "text/plain": [
       "2187"
      ]
     },
     "execution_count": 104,
     "metadata": {},
     "output_type": "execute_result"
    }
   ],
   "source": [
    "len(imgL)"
   ]
  },
  {
   "cell_type": "code",
   "execution_count": 105,
   "metadata": {
    "collapsed": false
   },
   "outputs": [
    {
     "data": {
      "text/plain": [
       "2183"
      ]
     },
     "execution_count": 105,
     "metadata": {},
     "output_type": "execute_result"
    }
   ],
   "source": [
    "len(imgR)"
   ]
  },
  {
   "cell_type": "code",
   "execution_count": 129,
   "metadata": {
    "collapsed": false
   },
   "outputs": [],
   "source": [
    "colL = imgL[:, -1, :]\n",
    "colR = imgR[:, 0, :]\n",
    "padding = np.zeros([len(colL) - len(colR), 3])\n",
    "filter_ = np.concatenate([padding, colR, padding])\n",
    "colL = np.concatenate([padding, colL])\n",
    "distances = []\n",
    "for i in range(2*len(padding)):\n",
    "    filter_ = np.roll(filter_, 1, axis=0)\n",
    "    distances.append(abs(np.linalg.norm(filter_ - colL)))\n",
    "shift = np.argmin(distances) + 1"
   ]
  },
  {
   "cell_type": "code",
   "execution_count": 131,
   "metadata": {
    "collapsed": true
   },
   "outputs": [],
   "source": [
    "from PIL import Image\n",
    "\n",
    "def merge_images(file1, file2, shift):\n",
    "    image1 = Image.open(file1)\n",
    "    image2 = Image.open(file2)\n",
    "    (width1, height1) = image1.size\n",
    "    (width2, height2) = image2.size\n",
    "    \n",
    "    result_width = width1 + width2\n",
    "    result_height = max(height1, height2)\n",
    "\n",
    "    result = Image.new('RGB', (result_width, result_height))\n",
    "    result.paste(im=image1, box=(0, 0))\n",
    "    result.paste(im=image2, box=(width1, shift))\n",
    "    return result"
   ]
  },
  {
   "cell_type": "code",
   "execution_count": 132,
   "metadata": {
    "collapsed": false
   },
   "outputs": [],
   "source": [
    "r = merge_images(sample_fps[0], sample_fps[1], shift)"
   ]
  },
  {
   "cell_type": "code",
   "execution_count": 133,
   "metadata": {
    "collapsed": true
   },
   "outputs": [],
   "source": [
    "r.save('sample_result.png')"
   ]
  }
 ],
 "metadata": {
  "kernelspec": {
   "display_name": "Python [Root]",
   "language": "python",
   "name": "Python [Root]"
  },
  "language_info": {
   "codemirror_mode": {
    "name": "ipython",
    "version": 3
   },
   "file_extension": ".py",
   "mimetype": "text/x-python",
   "name": "python",
   "nbconvert_exporter": "python",
   "pygments_lexer": "ipython3",
   "version": "3.5.2"
  }
 },
 "nbformat": 4,
 "nbformat_minor": 0
}
